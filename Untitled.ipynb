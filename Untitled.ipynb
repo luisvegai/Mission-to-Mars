{
 "cells": [
  {
   "cell_type": "code",
   "execution_count": 4,
   "metadata": {},
   "outputs": [],
   "source": [
    "# Import Splinter and BeautifulSoup\n",
    "from splinter import Browser\n",
    "from bs4 import BeautifulSoup\n",
    "import pandas as pd\n",
    "import time\n",
    "import re"
   ]
  },
  {
   "cell_type": "code",
   "execution_count": 2,
   "metadata": {},
   "outputs": [],
   "source": [
    "new_images = [{\"title\":\"Cerberus Hemisphere Enhanced\",\"img_url\":\"https://2u-data-curriculum-team.s3.amazonaws.com/dataviz-online-content/module_10/hemispheres/cerberus_enhanced.tif\"},{\"title\":\"Schiaparelli Hemisphere Enhanced\",\"img_url\":\"https://2u-data-curriculum-team.s3.amazonaws.com/dataviz-online-content/module_10/hemispheres/schiaparelli_enhanced.tif\"},{\"title\":\"Syrtis Major Hemisphere Enhanced\",\"img_url\":\"https://astropedia.astrogeology.usgs.gov/download/Mars/Viking/syrtis_major_enhanced.tif\"},{\"title\":\"Valles Marineris Hemisphere Enhanced\",\"img_url\":\"https://2u-data-curriculum-team.s3.amazonaws.com/dataviz-online-content/module_10/hemispheres/valles_marineris_enhanced.tif\"}]"
   ]
  },
  {
   "cell_type": "code",
   "execution_count": 20,
   "metadata": {},
   "outputs": [
    {
     "data": {
      "text/plain": [
       "'Cerberus Hemisphere Enhanced'"
      ]
     },
     "execution_count": 20,
     "metadata": {},
     "output_type": "execute_result"
    }
   ],
   "source": [
    "new_images[0]['title']"
   ]
  },
  {
   "cell_type": "code",
   "execution_count": null,
   "metadata": {},
   "outputs": [],
   "source": []
  }
 ],
 "metadata": {
  "kernelspec": {
   "display_name": "PythonData",
   "language": "python",
   "name": "pythondata"
  },
  "language_info": {
   "codemirror_mode": {
    "name": "ipython",
    "version": 3
   },
   "file_extension": ".py",
   "mimetype": "text/x-python",
   "name": "python",
   "nbconvert_exporter": "python",
   "pygments_lexer": "ipython3",
   "version": "3.7.7"
  }
 },
 "nbformat": 4,
 "nbformat_minor": 4
}
