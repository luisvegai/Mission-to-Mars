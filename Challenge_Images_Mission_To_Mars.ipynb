{
 "cells": [
  {
   "cell_type": "code",
   "execution_count": 117,
   "metadata": {},
   "outputs": [],
   "source": [
    "# Import Splinter and BeautifulSoup\n",
    "from splinter import Browser\n",
    "from bs4 import BeautifulSoup\n",
    "import pandas as pd\n",
    "import time\n",
    "import re"
   ]
  },
  {
   "cell_type": "code",
   "execution_count": 2,
   "metadata": {},
   "outputs": [],
   "source": [
    "# Windows users\n",
    "executable_path = {'executable_path': 'chromedriver.exe'}\n",
    "browser = Browser('chrome', **executable_path)"
   ]
  },
  {
   "cell_type": "code",
   "execution_count": 170,
   "metadata": {},
   "outputs": [],
   "source": [
    "# Visit URL\n",
    "url = 'https://2u-data-curriculum-team.s3.amazonaws.com/dataviz-online-content/module_10/Astropedia+Search+Results+_+USGS+Astrogeology+Science+Center.htm'\n",
    "browser.visit(url)\n",
    "# html = browser.html\n",
    "# soup = BeautifulSoup(html, 'html.parser')"
   ]
  },
  {
   "cell_type": "code",
   "execution_count": 163,
   "metadata": {},
   "outputs": [],
   "source": [
    "# Find the more info button and click that\n",
    "#browser.is_element_present_by_text('more info', wait_time=1)\n",
    "# more_info_elem = browser.find_by_css('img[class=\"thumb\"]')\n",
    "# more_info_elem = list(more_info_elem)\n",
    "# more_info_elem[1].click()"
   ]
  },
  {
   "cell_type": "code",
   "execution_count": 176,
   "metadata": {},
   "outputs": [
    {
     "data": {
      "text/plain": [
       "[{'title': 'Cerberus Hemisphere Enhanced thumbnail',\n",
       "  'img_url': 'https://2u-data-curriculum-team.s3.amazonaws.com/dataviz-online-content/module_10/Astropedia%20Search%20Results%20_%20USGS%20Astrogeology%20Science%20Center_files/39d3266553462198bd2fbc4d18fbed17_cerberus_enhanced.tif_thumb.png'},\n",
       " {'title': 'Schiaparelli Hemisphere Enhanced thumbnail',\n",
       "  'img_url': 'https://2u-data-curriculum-team.s3.amazonaws.com/dataviz-online-content/module_10/Astropedia%20Search%20Results%20_%20USGS%20Astrogeology%20Science%20Center_files/08eac6e22c07fb1fe72223a79252de20_schiaparelli_enhanced.tif_thumb.png'},\n",
       " {'title': 'Syrtis Major Hemisphere Enhanced thumbnail',\n",
       "  'img_url': 'https://2u-data-curriculum-team.s3.amazonaws.com/dataviz-online-content/module_10/Astropedia%20Search%20Results%20_%20USGS%20Astrogeology%20Science%20Center_files/55a0a1e2796313fdeafb17c35925e8ac_syrtis_major_enhanced.tif_thumb.png'},\n",
       " {'title': 'Valles Marineris Hemisphere Enhanced thumbnail',\n",
       "  'img_url': 'https://2u-data-curriculum-team.s3.amazonaws.com/dataviz-online-content/module_10/Astropedia%20Search%20Results%20_%20USGS%20Astrogeology%20Science%20Center_files/4e59980c1c57f89c680c0e1ccabbeff1_valles_marineris_enhanced.tif_thumb.png'}]"
      ]
     },
     "execution_count": 176,
     "metadata": {},
     "output_type": "execute_result"
    }
   ],
   "source": [
    "html = browser.html\n",
    "img_soup = BeautifulSoup(html, 'html.parser')\n",
    "try:\n",
    "    imgt_all = img_soup.select('div.item img.thumb')\n",
    "    imt_dict = []\n",
    "    for it in imgt_all:\n",
    "        its = it['src'].replace(\" \", \"%20\")\n",
    "        its_url = f'https://2u-data-curriculum-team.s3.amazonaws.com/dataviz-online-content/module_10{its[1:]}'\n",
    "    #    print(it_url)\n",
    "        ita =it['alt']\n",
    "    #    print(ita)\n",
    "        case = {'title': ita, 'img_url': its_url }\n",
    "        imt_dict.append(case)\n",
    "except:\n",
    "    imt_dict = imt_dict\n",
    "imt_dict"
   ]
  },
  {
   "cell_type": "code",
   "execution_count": 175,
   "metadata": {},
   "outputs": [
    {
     "data": {
      "text/plain": [
       "[{'title': 'Cerberus Hemisphere Enhanced',\n",
       "  'img_url': 'https://astropedia.astrogeology.usgs.gov/download/Mars/Viking/cerberus_enhanced.tif'},\n",
       " {'title': 'Schiaparelli Hemisphere Enhanced',\n",
       "  'img_url': 'https://astropedia.astrogeology.usgs.gov/download/Mars/Viking/schiaparelli_enhanced.tif'},\n",
       " {'title': 'Syrtis Major Hemisphere Enhanced',\n",
       "  'img_url': 'https://astropedia.astrogeology.usgs.gov/download/Mars/Viking/syrtis_major_enhanced.tif'},\n",
       " {'title': 'Valles Marineris Hemisphere Enhanced',\n",
       "  'img_url': 'https://astropedia.astrogeology.usgs.gov/download/Mars/Viking/valles_marineris_enhanced.tif'}]"
      ]
     },
     "execution_count": 175,
     "metadata": {},
     "output_type": "execute_result"
    }
   ],
   "source": [
    "imf_dict=[]\n",
    "for el in range(4):\n",
    "    more_info_elem = browser.find_by_css('img[class=\"thumb\"]')\n",
    "    more_info_elem = list(more_info_elem)\n",
    "    more_info_elem[el].click()\n",
    "    time.sleep(2)\n",
    "    html = browser.html\n",
    "    img_soup = BeautifulSoup(html, 'html.parser')\n",
    "#    browser.is_element_present_by_text('Original', wait_time=1)\n",
    "    try:\n",
    "        imga_all = img_soup.select('div.downloads ul li a')\n",
    "        imga_l=imga_all[1]['href']\n",
    "    #    print(imga_l)\n",
    "        imgt = img_soup.find('h2').text\n",
    "    #    print(imgt)\n",
    "        case = {'title': imgt, 'img_url': imga_l }\n",
    "        imf_dict.append(case)\n",
    "        browser.back()\n",
    "    except:\n",
    "        browser.back()\n",
    "imf_dict"
   ]
  },
  {
   "cell_type": "code",
   "execution_count": null,
   "metadata": {},
   "outputs": [],
   "source": []
  }
 ],
 "metadata": {
  "kernelspec": {
   "display_name": "PythonData",
   "language": "python",
   "name": "pythondata"
  },
  "language_info": {
   "codemirror_mode": {
    "name": "ipython",
    "version": 3
   },
   "file_extension": ".py",
   "mimetype": "text/x-python",
   "name": "python",
   "nbconvert_exporter": "python",
   "pygments_lexer": "ipython3",
   "version": "3.7.7"
  }
 },
 "nbformat": 4,
 "nbformat_minor": 4
}
